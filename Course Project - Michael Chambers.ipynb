{
 "cells": [
  {
   "cell_type": "markdown",
   "metadata": {},
   "source": [
    "# Automating the Analysis HIV Immunogen Antigenic Characteristics\n",
    "## (Alt Title: I'm getting lazy)\n",
    "### Michael Chambers\n"
   ]
  },
  {
   "cell_type": "markdown",
   "metadata": {},
   "source": [
    "# What I Do: A lotta quality control for HIV Immunogens"
   ]
  },
  {
   "cell_type": "markdown",
   "metadata": {},
   "source": [
    "# Objective: Automate the data analysis for these immunogens"
   ]
  },
  {
   "cell_type": "markdown",
   "metadata": {},
   "source": [
    "# My Goals:\n",
    "1. Convert MSD output file to .csv\n",
    "2. Break up the .csv into 8x12 arrays\n",
    "3. Average column duplicates and create graph\n",
    "4. Import raw data into Prism for further analysis"
   ]
  },
  {
   "cell_type": "markdown",
   "metadata": {},
   "source": [
    "# What I made:\n",
    "1. A script that accomplishes ALMOST all of the above\n",
    "2. A rudimentary module to easily manipulate the data from each plate "
   ]
  },
  {
   "cell_type": "markdown",
   "metadata": {},
   "source": [
    "# DEMO TIME!"
   ]
  },
  {
   "cell_type": "code",
   "execution_count": 1,
   "metadata": {
    "collapsed": false
   },
   "outputs": [
    {
     "data": {
      "text/plain": [
       "'==========Data==================================================================================================================================================================================================\\n\\t1\\t2\\t3\\t4\\t5\\t6\\t7\\t8\\t9\\t10\\t11\\t12\\nA\\t963268\\t965546\\t934816\\t965927\\t9476\\t9728\\t75679\\t75719\\t58511\\t57280\\t189749\\t186988\\nB\\t973919\\t976761\\t940526\\t939458\\t5534\\t5500\\t37403\\t37522\\t29628\\t28250\\t91300\\t94668\\nC\\t907480\\t912649\\t875027\\t873084\\t3671\\t3950\\t20350\\t20372\\t16409\\t16225\\t51356\\t51729\\nD\\t756367\\t762278\\t723299\\t722686\\t3134\\t2984\\t10568\\t10621\\t8535\\t8338\\t26760\\t27257\\nE\\t465322\\t468026\\t429960\\t437096\\t2602\\t331\\t5604\\t5873\\t4866\\t4973\\t14761\\t14776\\nF\\t244089\\t250824\\t234123\\t237409\\t2071\\t2177\\t2944\\t3083\\t2874\\t2834\\t7214\\t7122\\nG\\t134690\\t139305\\t128528\\t133833\\t2030\\t2035\\t1663\\t1759\\t1688\\t1724\\t3949\\t3798\\nH\\t86\\t89\\t165\\t207\\t1621\\t1640\\t97\\t100\\t187\\t568\\t126\\t126\\n\\n==========Data==================================================================================================================================================================================================\\n\\t1\\t2\\t3\\t4\\t5\\t6\\t7\\t8\\t9\\t10\\t11\\t12\\nA\\t146106\\t148267\\t1008\\t1007\\t1112\\t1183\\t2666\\t2648\\t3053\\t3033\\t4916\\t4792\\nB\\t109212\\t107029\\t557\\t623\\t1056\\t1051\\t1322\\t1344\\t1690\\t1744\\t2362\\t2405\\nC\\t71341\\t67961\\t404\\t402\\t1129\\t1331\\t762\\t783\\t1130\\t1140\\t1313\\t1286\\nD\\t38312\\t35936\\t232\\t319\\t1323\\t1192\\t418\\t453\\t826\\t825\\t718\\t750\\nE\\t16283\\t16196\\t277\\t285\\t1205\\t1254\\t267\\t287\\t667\\t670\\t439\\t446\\nF\\t6311\\t6260\\t249\\t258\\t1336\\t1260\\t185\\t188\\t595\\t597\\t268\\t274\\nG\\t3023\\t2910\\t256\\t260\\t1399\\t1335\\t149\\t155\\t532\\t560\\t205\\t200\\nH\\t155\\t160\\t228\\t254\\t1319\\t1259\\t95\\t99\\t500\\t522\\t127\\t130\\n'"
      ]
     },
     "execution_count": 1,
     "metadata": {},
     "output_type": "execute_result"
    }
   ],
   "source": [
    "#This is the MSD .txt output file I'll be working with:\n",
    "data = open('data.txt')\n",
    "data.read()"
   ]
  },
  {
   "cell_type": "markdown",
   "metadata": {},
   "source": [
    "## (1) Demo Script: msd_script.py"
   ]
  },
  {
   "cell_type": "markdown",
   "metadata": {},
   "source": [
    "## (2) Demo Module: msd_module.py"
   ]
  },
  {
   "cell_type": "code",
   "execution_count": 2,
   "metadata": {
    "collapsed": false
   },
   "outputs": [
    {
     "name": "stdout",
     "output_type": "stream",
     "text": [
      "msd_module imported!\n"
     ]
    }
   ],
   "source": [
    "#Import msd_module\n",
    "%matplotlib inline\n",
    "import msd_module\n"
   ]
  },
  {
   "cell_type": "code",
   "execution_count": 3,
   "metadata": {
    "collapsed": false
   },
   "outputs": [],
   "source": [
    "#Check Docstring\n",
    "msd_module?\n"
   ]
  },
  {
   "cell_type": "code",
   "execution_count": 4,
   "metadata": {
    "collapsed": false
   },
   "outputs": [
    {
     "name": "stdout",
     "output_type": "stream",
     "text": [
      "Input date (e.g. yymmdd): 160511\n",
      "Input project name (e.g. my_project): Project2\n"
     ]
    }
   ],
   "source": [
    "project1 = msd_module.msd_96()"
   ]
  },
  {
   "cell_type": "code",
   "execution_count": 6,
   "metadata": {
    "collapsed": false
   },
   "outputs": [
    {
     "name": "stdout",
     "output_type": "stream",
     "text": [
      "df created!\n"
     ]
    }
   ],
   "source": [
    "project1.create_df('data.txt')"
   ]
  },
  {
   "cell_type": "code",
   "execution_count": 7,
   "metadata": {
    "collapsed": false
   },
   "outputs": [
    {
     "data": {
      "text/html": [
       "<div>\n",
       "<table border=\"1\" class=\"dataframe\">\n",
       "  <thead>\n",
       "    <tr style=\"text-align: right;\">\n",
       "      <th></th>\n",
       "      <th>Rows</th>\n",
       "      <th>1</th>\n",
       "      <th>2</th>\n",
       "      <th>3</th>\n",
       "      <th>4</th>\n",
       "      <th>5</th>\n",
       "      <th>6</th>\n",
       "      <th>7</th>\n",
       "      <th>8</th>\n",
       "      <th>9</th>\n",
       "      <th>10</th>\n",
       "      <th>11</th>\n",
       "      <th>12</th>\n",
       "    </tr>\n",
       "  </thead>\n",
       "  <tbody>\n",
       "    <tr>\n",
       "      <th>0</th>\n",
       "      <td>A</td>\n",
       "      <td>963268</td>\n",
       "      <td>965546</td>\n",
       "      <td>934816</td>\n",
       "      <td>965927</td>\n",
       "      <td>9476</td>\n",
       "      <td>9728</td>\n",
       "      <td>75679</td>\n",
       "      <td>75719</td>\n",
       "      <td>58511</td>\n",
       "      <td>57280</td>\n",
       "      <td>189749</td>\n",
       "      <td>186988</td>\n",
       "    </tr>\n",
       "    <tr>\n",
       "      <th>1</th>\n",
       "      <td>B</td>\n",
       "      <td>973919</td>\n",
       "      <td>976761</td>\n",
       "      <td>940526</td>\n",
       "      <td>939458</td>\n",
       "      <td>5534</td>\n",
       "      <td>5500</td>\n",
       "      <td>37403</td>\n",
       "      <td>37522</td>\n",
       "      <td>29628</td>\n",
       "      <td>28250</td>\n",
       "      <td>91300</td>\n",
       "      <td>94668</td>\n",
       "    </tr>\n",
       "    <tr>\n",
       "      <th>2</th>\n",
       "      <td>C</td>\n",
       "      <td>907480</td>\n",
       "      <td>912649</td>\n",
       "      <td>875027</td>\n",
       "      <td>873084</td>\n",
       "      <td>3671</td>\n",
       "      <td>3950</td>\n",
       "      <td>20350</td>\n",
       "      <td>20372</td>\n",
       "      <td>16409</td>\n",
       "      <td>16225</td>\n",
       "      <td>51356</td>\n",
       "      <td>51729</td>\n",
       "    </tr>\n",
       "    <tr>\n",
       "      <th>3</th>\n",
       "      <td>D</td>\n",
       "      <td>756367</td>\n",
       "      <td>762278</td>\n",
       "      <td>723299</td>\n",
       "      <td>722686</td>\n",
       "      <td>3134</td>\n",
       "      <td>2984</td>\n",
       "      <td>10568</td>\n",
       "      <td>10621</td>\n",
       "      <td>8535</td>\n",
       "      <td>8338</td>\n",
       "      <td>26760</td>\n",
       "      <td>27257</td>\n",
       "    </tr>\n",
       "    <tr>\n",
       "      <th>4</th>\n",
       "      <td>E</td>\n",
       "      <td>465322</td>\n",
       "      <td>468026</td>\n",
       "      <td>429960</td>\n",
       "      <td>437096</td>\n",
       "      <td>2602</td>\n",
       "      <td>331</td>\n",
       "      <td>5604</td>\n",
       "      <td>5873</td>\n",
       "      <td>4866</td>\n",
       "      <td>4973</td>\n",
       "      <td>14761</td>\n",
       "      <td>14776</td>\n",
       "    </tr>\n",
       "    <tr>\n",
       "      <th>5</th>\n",
       "      <td>F</td>\n",
       "      <td>244089</td>\n",
       "      <td>250824</td>\n",
       "      <td>234123</td>\n",
       "      <td>237409</td>\n",
       "      <td>2071</td>\n",
       "      <td>2177</td>\n",
       "      <td>2944</td>\n",
       "      <td>3083</td>\n",
       "      <td>2874</td>\n",
       "      <td>2834</td>\n",
       "      <td>7214</td>\n",
       "      <td>7122</td>\n",
       "    </tr>\n",
       "    <tr>\n",
       "      <th>6</th>\n",
       "      <td>G</td>\n",
       "      <td>134690</td>\n",
       "      <td>139305</td>\n",
       "      <td>128528</td>\n",
       "      <td>133833</td>\n",
       "      <td>2030</td>\n",
       "      <td>2035</td>\n",
       "      <td>1663</td>\n",
       "      <td>1759</td>\n",
       "      <td>1688</td>\n",
       "      <td>1724</td>\n",
       "      <td>3949</td>\n",
       "      <td>3798</td>\n",
       "    </tr>\n",
       "    <tr>\n",
       "      <th>7</th>\n",
       "      <td>H</td>\n",
       "      <td>86</td>\n",
       "      <td>89</td>\n",
       "      <td>165</td>\n",
       "      <td>207</td>\n",
       "      <td>1621</td>\n",
       "      <td>1640</td>\n",
       "      <td>97</td>\n",
       "      <td>100</td>\n",
       "      <td>187</td>\n",
       "      <td>568</td>\n",
       "      <td>126</td>\n",
       "      <td>126</td>\n",
       "    </tr>\n",
       "    <tr>\n",
       "      <th>8</th>\n",
       "      <td>A</td>\n",
       "      <td>146106</td>\n",
       "      <td>148267</td>\n",
       "      <td>1008</td>\n",
       "      <td>1007</td>\n",
       "      <td>1112</td>\n",
       "      <td>1183</td>\n",
       "      <td>2666</td>\n",
       "      <td>2648</td>\n",
       "      <td>3053</td>\n",
       "      <td>3033</td>\n",
       "      <td>4916</td>\n",
       "      <td>4792</td>\n",
       "    </tr>\n",
       "    <tr>\n",
       "      <th>9</th>\n",
       "      <td>B</td>\n",
       "      <td>109212</td>\n",
       "      <td>107029</td>\n",
       "      <td>557</td>\n",
       "      <td>623</td>\n",
       "      <td>1056</td>\n",
       "      <td>1051</td>\n",
       "      <td>1322</td>\n",
       "      <td>1344</td>\n",
       "      <td>1690</td>\n",
       "      <td>1744</td>\n",
       "      <td>2362</td>\n",
       "      <td>2405</td>\n",
       "    </tr>\n",
       "    <tr>\n",
       "      <th>10</th>\n",
       "      <td>C</td>\n",
       "      <td>71341</td>\n",
       "      <td>67961</td>\n",
       "      <td>404</td>\n",
       "      <td>402</td>\n",
       "      <td>1129</td>\n",
       "      <td>1331</td>\n",
       "      <td>762</td>\n",
       "      <td>783</td>\n",
       "      <td>1130</td>\n",
       "      <td>1140</td>\n",
       "      <td>1313</td>\n",
       "      <td>1286</td>\n",
       "    </tr>\n",
       "    <tr>\n",
       "      <th>11</th>\n",
       "      <td>D</td>\n",
       "      <td>38312</td>\n",
       "      <td>35936</td>\n",
       "      <td>232</td>\n",
       "      <td>319</td>\n",
       "      <td>1323</td>\n",
       "      <td>1192</td>\n",
       "      <td>418</td>\n",
       "      <td>453</td>\n",
       "      <td>826</td>\n",
       "      <td>825</td>\n",
       "      <td>718</td>\n",
       "      <td>750</td>\n",
       "    </tr>\n",
       "    <tr>\n",
       "      <th>12</th>\n",
       "      <td>E</td>\n",
       "      <td>16283</td>\n",
       "      <td>16196</td>\n",
       "      <td>277</td>\n",
       "      <td>285</td>\n",
       "      <td>1205</td>\n",
       "      <td>1254</td>\n",
       "      <td>267</td>\n",
       "      <td>287</td>\n",
       "      <td>667</td>\n",
       "      <td>670</td>\n",
       "      <td>439</td>\n",
       "      <td>446</td>\n",
       "    </tr>\n",
       "    <tr>\n",
       "      <th>13</th>\n",
       "      <td>F</td>\n",
       "      <td>6311</td>\n",
       "      <td>6260</td>\n",
       "      <td>249</td>\n",
       "      <td>258</td>\n",
       "      <td>1336</td>\n",
       "      <td>1260</td>\n",
       "      <td>185</td>\n",
       "      <td>188</td>\n",
       "      <td>595</td>\n",
       "      <td>597</td>\n",
       "      <td>268</td>\n",
       "      <td>274</td>\n",
       "    </tr>\n",
       "    <tr>\n",
       "      <th>14</th>\n",
       "      <td>G</td>\n",
       "      <td>3023</td>\n",
       "      <td>2910</td>\n",
       "      <td>256</td>\n",
       "      <td>260</td>\n",
       "      <td>1399</td>\n",
       "      <td>1335</td>\n",
       "      <td>149</td>\n",
       "      <td>155</td>\n",
       "      <td>532</td>\n",
       "      <td>560</td>\n",
       "      <td>205</td>\n",
       "      <td>200</td>\n",
       "    </tr>\n",
       "    <tr>\n",
       "      <th>15</th>\n",
       "      <td>H</td>\n",
       "      <td>155</td>\n",
       "      <td>160</td>\n",
       "      <td>228</td>\n",
       "      <td>254</td>\n",
       "      <td>1319</td>\n",
       "      <td>1259</td>\n",
       "      <td>95</td>\n",
       "      <td>99</td>\n",
       "      <td>500</td>\n",
       "      <td>522</td>\n",
       "      <td>127</td>\n",
       "      <td>130</td>\n",
       "    </tr>\n",
       "  </tbody>\n",
       "</table>\n",
       "</div>"
      ],
      "text/plain": [
       "   Rows       1       2       3       4     5     6      7      8      9  \\\n",
       "0     A  963268  965546  934816  965927  9476  9728  75679  75719  58511   \n",
       "1     B  973919  976761  940526  939458  5534  5500  37403  37522  29628   \n",
       "2     C  907480  912649  875027  873084  3671  3950  20350  20372  16409   \n",
       "3     D  756367  762278  723299  722686  3134  2984  10568  10621   8535   \n",
       "4     E  465322  468026  429960  437096  2602   331   5604   5873   4866   \n",
       "5     F  244089  250824  234123  237409  2071  2177   2944   3083   2874   \n",
       "6     G  134690  139305  128528  133833  2030  2035   1663   1759   1688   \n",
       "7     H      86      89     165     207  1621  1640     97    100    187   \n",
       "8     A  146106  148267    1008    1007  1112  1183   2666   2648   3053   \n",
       "9     B  109212  107029     557     623  1056  1051   1322   1344   1690   \n",
       "10    C   71341   67961     404     402  1129  1331    762    783   1130   \n",
       "11    D   38312   35936     232     319  1323  1192    418    453    826   \n",
       "12    E   16283   16196     277     285  1205  1254    267    287    667   \n",
       "13    F    6311    6260     249     258  1336  1260    185    188    595   \n",
       "14    G    3023    2910     256     260  1399  1335    149    155    532   \n",
       "15    H     155     160     228     254  1319  1259     95     99    500   \n",
       "\n",
       "       10      11      12  \n",
       "0   57280  189749  186988  \n",
       "1   28250   91300   94668  \n",
       "2   16225   51356   51729  \n",
       "3    8338   26760   27257  \n",
       "4    4973   14761   14776  \n",
       "5    2834    7214    7122  \n",
       "6    1724    3949    3798  \n",
       "7     568     126     126  \n",
       "8    3033    4916    4792  \n",
       "9    1744    2362    2405  \n",
       "10   1140    1313    1286  \n",
       "11    825     718     750  \n",
       "12    670     439     446  \n",
       "13    597     268     274  \n",
       "14    560     205     200  \n",
       "15    522     127     130  "
      ]
     },
     "execution_count": 7,
     "metadata": {},
     "output_type": "execute_result"
    }
   ],
   "source": [
    "project1.df"
   ]
  },
  {
   "cell_type": "code",
   "execution_count": 8,
   "metadata": {
    "collapsed": false,
    "scrolled": true
   },
   "outputs": [
    {
     "name": "stdout",
     "output_type": "stream",
     "text": [
      "Plate#_1\n",
      "  row  dilution         1         2       3        4        5         6\n",
      "0   A  5.000000  964407.0  950371.5  9602.0  75699.0  57895.5  188368.5\n",
      "1   B  2.500000  975340.0  939992.0  5517.0  37462.5  28939.0   92984.0\n",
      "2   C  1.250000  910064.5  874055.5  3810.5  20361.0  16317.0   51542.5\n",
      "3   D  0.625000  759322.5  722992.5  3059.0  10594.5   8436.5   27008.5\n",
      "4   E  0.312500  466674.0  433528.0  1466.5   5738.5   4919.5   14768.5\n",
      "5   F  0.156250  247456.5  235766.0  2124.0   3013.5   2854.0    7168.0\n",
      "6   G  0.078125  136997.5  131180.5  2032.5   1711.0   1706.0    3873.5\n",
      "7   H  0.039062      87.5     186.0  1630.5     98.5    377.5     126.0\n",
      "Axes(0.125,0.125;0.775x0.775)\n",
      "Plate#_2\n",
      "   row  dilution         1       2       3       4       5       6\n",
      "8    A  5.000000  147186.5  1007.5  1147.5  2657.0  3043.0  4854.0\n",
      "9    B  2.500000  108120.5   590.0  1053.5  1333.0  1717.0  2383.5\n",
      "10   C  1.250000   69651.0   403.0  1230.0   772.5  1135.0  1299.5\n",
      "11   D  0.625000   37124.0   275.5  1257.5   435.5   825.5   734.0\n",
      "12   E  0.312500   16239.5   281.0  1229.5   277.0   668.5   442.5\n",
      "13   F  0.156250    6285.5   253.5  1298.0   186.5   596.0   271.0\n",
      "14   G  0.078125    2966.5   258.0  1367.0   152.0   546.0   202.5\n",
      "15   H  0.039062     157.5   241.0  1289.0    97.0   511.0   128.5\n",
      "Axes(0.125,0.125;0.775x0.775)\n"
     ]
    },
    {
     "data": {
      "image/png": "[encoded data removed]",
      "text/plain": [
       "<matplotlib.figure.Figure at 0x102dac860>"
      ]
     },
     "metadata": {},
     "output_type": "display_data"
    },
    {
     "data": {
      "image/png": "[encoded data removed]",
      "text/plain": [
       "<matplotlib.figure.Figure at 0x10a9ed828>"
      ]
     },
     "metadata": {},
     "output_type": "display_data"
    }
   ],
   "source": [
    "project1.split_plates()"
   ]
  },
  {
   "cell_type": "code",
   "execution_count": 9,
   "metadata": {
    "collapsed": false
   },
   "outputs": [
    {
     "data": {
      "text/plain": [
       "[5, 2.5, 1.25, 0.625, 0.3125, 0.15625, 0.078125, 0.0390625]"
      ]
     },
     "execution_count": 9,
     "metadata": {},
     "output_type": "execute_result"
    }
   ],
   "source": [
    "project1.dilution"
   ]
  },
  {
   "cell_type": "code",
   "execution_count": 10,
   "metadata": {
    "collapsed": false
   },
   "outputs": [],
   "source": [
    "project1.create_dilution(5,3,8)\n"
   ]
  },
  {
   "cell_type": "code",
   "execution_count": 11,
   "metadata": {
    "collapsed": false
   },
   "outputs": [
    {
     "data": {
      "text/plain": [
       "[5,\n",
       " 1.6666666666666667,\n",
       " 0.5555555555555556,\n",
       " 0.1851851851851852,\n",
       " 0.0617283950617284,\n",
       " 0.0205761316872428,\n",
       " 0.006858710562414266,\n",
       " 0.0022862368541380885]"
      ]
     },
     "execution_count": 11,
     "metadata": {},
     "output_type": "execute_result"
    }
   ],
   "source": [
    "project1.dilution"
   ]
  },
  {
   "cell_type": "code",
   "execution_count": 12,
   "metadata": {
    "collapsed": false
   },
   "outputs": [
    {
     "name": "stdout",
     "output_type": "stream",
     "text": [
      "Plate#_1\n",
      "  row  dilution         1         2       3        4        5         6\n",
      "0   A  5.000000  964407.0  950371.5  9602.0  75699.0  57895.5  188368.5\n",
      "1   B  1.666667  975340.0  939992.0  5517.0  37462.5  28939.0   92984.0\n",
      "2   C  0.555556  910064.5  874055.5  3810.5  20361.0  16317.0   51542.5\n",
      "3   D  0.185185  759322.5  722992.5  3059.0  10594.5   8436.5   27008.5\n",
      "4   E  0.061728  466674.0  433528.0  1466.5   5738.5   4919.5   14768.5\n",
      "5   F  0.020576  247456.5  235766.0  2124.0   3013.5   2854.0    7168.0\n",
      "6   G  0.006859  136997.5  131180.5  2032.5   1711.0   1706.0    3873.5\n",
      "7   H  0.002286      87.5     186.0  1630.5     98.5    377.5     126.0\n",
      "Axes(0.125,0.125;0.775x0.775)\n",
      "Plate#_2\n",
      "   row  dilution         1       2       3       4       5       6\n",
      "8    A  5.000000  147186.5  1007.5  1147.5  2657.0  3043.0  4854.0\n",
      "9    B  1.666667  108120.5   590.0  1053.5  1333.0  1717.0  2383.5\n",
      "10   C  0.555556   69651.0   403.0  1230.0   772.5  1135.0  1299.5\n",
      "11   D  0.185185   37124.0   275.5  1257.5   435.5   825.5   734.0\n",
      "12   E  0.061728   16239.5   281.0  1229.5   277.0   668.5   442.5\n",
      "13   F  0.020576    6285.5   253.5  1298.0   186.5   596.0   271.0\n",
      "14   G  0.006859    2966.5   258.0  1367.0   152.0   546.0   202.5\n",
      "15   H  0.002286     157.5   241.0  1289.0    97.0   511.0   128.5\n",
      "Axes(0.125,0.125;0.775x0.775)\n"
     ]
    },
    {
     "data": {
      "image/png": "[encoded data removed]",
      "text/plain": [
       "<matplotlib.figure.Figure at 0x102dac5f8>"
      ]
     },
     "metadata": {},
     "output_type": "display_data"
    },
    {
     "data": {
      "image/png": "[encoded data removed]",
      "text/plain": [
       "<matplotlib.figure.Figure at 0x10ac2ce48>"
      ]
     },
     "metadata": {},
     "output_type": "display_data"
    }
   ],
   "source": [
    "project1.split_plates()"
   ]
  },
  {
   "cell_type": "markdown",
   "metadata": {},
   "source": [
    "# That's it!"
   ]
  },
  {
   "cell_type": "markdown",
   "metadata": {},
   "source": [
    "# So what's coming in msd_module VERSION 2.0!!!\n",
    "###### (more like version 0.0.2)\n",
    "* Make it pretty\n",
    "* Interpret more .txt file types\n",
    "* Expand on module functions\n",
    "* Write data in XML and import into Prism for further analysis"
   ]
  },
  {
   "cell_type": "markdown",
   "metadata": {},
   "source": [
    "# Is it on GitHub? HELL YEAH!!!\n",
    "## https://github.com/greenkidneybean/MSD_Module"
   ]
  },
  {
   "cell_type": "markdown",
   "metadata": {},
   "source": [
    "# How much time do these tools save me?\n",
    "## For right now I'll just say I'm in the red."
   ]
  },
  {
   "cell_type": "markdown",
   "metadata": {},
   "source": [
    "# Cheers!\n",
    "##### ~mc"
   ]
  }
 ],
 "metadata": {
  "kernelspec": {
   "display_name": "Python 3",
   "language": "python",
   "name": "python3"
  },
  "language_info": {
   "codemirror_mode": {
    "name": "ipython",
    "version": 3
   },
   "file_extension": ".py",
   "mimetype": "text/x-python",
   "name": "python",
   "nbconvert_exporter": "python",
   "pygments_lexer": "ipython3",
   "version": "3.5.0"
  }
 },
 "nbformat": 4,
 "nbformat_minor": 0
}
